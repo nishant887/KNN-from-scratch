{
 "cells": [
  {
   "cell_type": "code",
   "execution_count": 1,
   "metadata": {},
   "outputs": [],
   "source": [
    "import numpy as np\n",
    "import random\n",
    "import time"
   ]
  },
  {
   "cell_type": "code",
   "execution_count": 2,
   "metadata": {},
   "outputs": [],
   "source": [
    "# testing data\n",
    "arr1 = []\n",
    "temp1=[]\n",
    "for i in range(100):\n",
    "    for j in range(1024):\n",
    "        temp1.append(random.randint(1,100))\n",
    "    arr1.append(temp1)\n",
    "    temp1=[]\n"
   ]
  },
  {
   "cell_type": "code",
   "execution_count": null,
   "metadata": {},
   "outputs": [],
   "source": [
    "#training data\n",
    "arr2 = []\n",
    "temp2=[]\n",
    "b=10000\n",
    "start_time=time.time()\n",
    "for i in range(500000):\n",
    "    for j in range(1024):\n",
    "        temp2.append(random.randint(1,100))\n",
    "    arr2.append(temp2)\n",
    "    temp2=[]\n",
    "    if i==b:\n",
    "        print(time.time()-start_time)\n",
    "        b=b+10000\n"
   ]
  },
  {
   "cell_type": "code",
   "execution_count": null,
   "metadata": {},
   "outputs": [],
   "source": [
    "\n",
    "\n",
    "\n",
    "#############################\n",
    "# SIMILARITY CHECK FUNCTION #\n",
    "#############################\n",
    "\n",
    "# euclidean distance calcualtion\n",
    "\n",
    "import math\n",
    "def euclideanDistance(instance1, instance2, length):\n",
    "    distance = 0\n",
    "    for x in range(length):\n",
    "        distance += pow((instance1[x] - instance2[x]), 2)\n",
    "    return math.sqrt(distance)\n",
    "\n",
    "\n",
    "\n",
    "############################################################\n",
    "# NEIGHBOURS - selecting subset with the smallest distance #\n",
    "############################################################\n",
    "\n",
    "import operator \n",
    "def getNeighbors(trainingSet, testInstance, k):\n",
    "    distances = []\n",
    "    length = len(testInstance)-1\n",
    "    for x in range(len(trainingSet)):\n",
    "        dist = euclideanDistance(testInstance, trainingSet[x], length)\n",
    "        distances.append((trainingSet[x], dist))\n",
    "    distances.sort(key=operator.itemgetter(1))\n",
    "    neighbors = []\n",
    "    for x in range(k):\n",
    "        neighbors.append(distances[x][0])\n",
    "    return neighbors\n",
    "\n",
    "\n",
    "\n",
    "######################\n",
    "# PREDICTED RESPONSE #\n",
    "import operator\n",
    "def getResponse(neighbors):\n",
    "    classVotes = {}\n",
    "\n",
    "######################\n",
    "    for x in range(len(neighbors)):\n",
    "        response = neighbors[x][-1]\n",
    "        if response in classVotes:\n",
    "            classVotes[response] += 1\n",
    "        else:\n",
    "            classVotes[response] = 1\n",
    "    sortedVotes = sorted(classVotes.items(), key=operator.itemgetter(1), reverse=True)\n",
    "    return sortedVotes[0][0]\n",
    "\n",
    "\n",
    "\n",
    "######################\n",
    "# MEASURING ACCURACY #\n",
    "######################\n",
    "\n",
    "def getAccuracy(testSet, predictions):\n",
    "    correct = 0\n",
    "    for x in range(len(testSet)):\n",
    "        if testSet[x][-1] in predictions[x]: \n",
    "            correct = correct + 1\n",
    "\n",
    "    return (correct/float(len(testSet))*100) \n",
    "\n",
    "def main():\n",
    "    \n",
    "    # prepare data\n",
    "    trainingSet=[]\n",
    "    testSet=[]\n",
    "\n",
    "    \n",
    "    trainingSet,testSet = arr2,arr1\n",
    "    \n",
    "    \n",
    "    print ('Train set: ' + repr(len(trainingSet)))\n",
    "    print ('Test set: ' + repr(len(testSet)))\n",
    "    # generate predictions\n",
    "    predictions=[]\n",
    "    \n",
    "    \n",
    "    k_arr = [10,100,1000,10000]\n",
    "    for k in k_arr:\n",
    "        print(\"k : \",k)\n",
    "        start_time = time.time()\n",
    "        for x in range(len(testSet)):\n",
    "            neighbors = getNeighbors(trainingSet, testSet[x], k)\n",
    "            result = getResponse(neighbors)\n",
    "            predictions.append(result)\n",
    "            print('> predicted=' + repr(result) + ', actual=' + repr(testSet[x][-1]))\n",
    "        accuracy = getAccuracy(testSet, predictions)\n",
    "        print('Accuracy: ' + repr(accuracy) + '%')\n",
    "        print(\"--- %s seconds ---\" % (time.time() - start_time))\n",
    "    \n",
    "\n",
    "\n",
    "\n",
    "\n",
    "\n",
    "main()\n"
   ]
  },
  {
   "cell_type": "markdown",
   "metadata": {},
   "source": [
    "# Alternative \n",
    " \n",
    "Since in this case, we are generating random numbers, we can assume the distribution to be Normal Distribution as the size is quite large. Then we won't have to save each value and the formula can be used for the normal distribution. Which will reduce computational burden."
   ]
  },
  {
   "cell_type": "markdown",
   "metadata": {},
   "source": [
    "# Outputs for checking "
   ]
  },
  {
   "cell_type": "code",
   "execution_count": 6,
   "metadata": {},
   "outputs": [
    {
     "data": {
      "text/plain": [
       "500000"
      ]
     },
     "execution_count": 6,
     "metadata": {},
     "output_type": "execute_result"
    }
   ],
   "source": [
    "len(arr2)"
   ]
  },
  {
   "cell_type": "code",
   "execution_count": 7,
   "metadata": {},
   "outputs": [
    {
     "data": {
      "text/plain": [
       "100"
      ]
     },
     "execution_count": 7,
     "metadata": {},
     "output_type": "execute_result"
    }
   ],
   "source": [
    "len(arr1)"
   ]
  },
  {
   "cell_type": "code",
   "execution_count": 8,
   "metadata": {},
   "outputs": [
    {
     "data": {
      "text/plain": [
       "1024"
      ]
     },
     "execution_count": 8,
     "metadata": {},
     "output_type": "execute_result"
    }
   ],
   "source": [
    "len(arr1[0])"
   ]
  },
  {
   "cell_type": "code",
   "execution_count": 9,
   "metadata": {},
   "outputs": [
    {
     "data": {
      "text/plain": [
       "1024"
      ]
     },
     "execution_count": 9,
     "metadata": {},
     "output_type": "execute_result"
    }
   ],
   "source": [
    "len(arr2[0])"
   ]
  },
  {
   "cell_type": "code",
   "execution_count": null,
   "metadata": {},
   "outputs": [],
   "source": []
  },
  {
   "cell_type": "code",
   "execution_count": null,
   "metadata": {},
   "outputs": [],
   "source": []
  }
 ],
 "metadata": {
  "kernelspec": {
   "display_name": "Python 3",
   "language": "python",
   "name": "python3"
  },
  "language_info": {
   "codemirror_mode": {
    "name": "ipython",
    "version": 3
   },
   "file_extension": ".py",
   "mimetype": "text/x-python",
   "name": "python",
   "nbconvert_exporter": "python",
   "pygments_lexer": "ipython3",
   "version": "3.6.4"
  }
 },
 "nbformat": 4,
 "nbformat_minor": 2
}
